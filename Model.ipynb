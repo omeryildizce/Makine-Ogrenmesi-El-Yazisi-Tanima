{
 "cells": [
  {
   "cell_type": "code",
   "execution_count": 1,
   "id": "b12ead95",
   "metadata": {},
   "outputs": [],
   "source": [
    "import numpy as np\n",
    "from keras.datasets import mnist\n",
    "import tensorflow as tf\n",
    "from keras.preprocessing.image import load_img\n",
    "from keras.preprocessing.image import img_to_array\n",
    "from keras.preprocessing.image import array_to_img\n",
    "from sklearn.metrics import confusion_matrix\n",
    "\n",
    "\n",
    "(X_train, y_train) , (X_test, y_test) =mnist.load_data() #Mnist verilerini çekme\n"
   ]
  },
  {
   "cell_type": "code",
   "execution_count": 2,
   "id": "065ee260",
   "metadata": {},
   "outputs": [],
   "source": [
    "#  VERİLERİ İŞLEM KOLAYLIĞI İÇİN 0-1 NORMALLEŞTİRME VE RESHAPE YAPMA\n",
    "X_train = X_train / 255\n",
    "X_test = X_test / 255\n",
    "X_train = X_train.reshape(-1,28,28,1)    #training set\n",
    "X_test = X_test.reshape(-1,28,28,1)      #test set\n"
   ]
  },
  {
   "cell_type": "code",
   "execution_count": 3,
   "id": "a8761d6f",
   "metadata": {},
   "outputs": [],
   "source": [
    "#MODEL OLUŞTURMA\n",
    "from tensorflow.keras import models\n",
    "from tensorflow.keras import layers\n",
    "cnnModel = models.Sequential()"
   ]
  },
  {
   "cell_type": "code",
   "execution_count": 4,
   "id": "dfb208ff",
   "metadata": {},
   "outputs": [],
   "source": [
    "#KATMANLAR \n",
    "cnnModel.add(tf.keras.layers.Conv2D(filters=32, kernel_size=(3, 3), activation='relu', input_shape=(28,28,1)))\n",
    "cnnModel.add(tf.keras.layers.MaxPooling2D((2, 2)))\n",
    "cnnModel.add(tf.keras.layers.Conv2D(filters=64, kernel_size=(3, 3), activation='relu'))\n",
    "cnnModel.add(tf.keras.layers.MaxPooling2D((2, 2)))\n",
    "cnnModel.add(tf.keras.layers.Conv2D(filters=64, kernel_size=(3, 3), activation='relu'))\n",
    "cnnModel.add(tf.keras.layers.MaxPooling2D((2, 2)))\n",
    "cnnModel.add(tf.keras.layers.Flatten())\n",
    "cnnModel.add(tf.keras.layers.Dense(32, activation='relu'))\n",
    "cnnModel.add(tf.keras.layers.Dense(10, activation='softmax'))   "
   ]
  },
  {
   "cell_type": "code",
   "execution_count": 5,
   "id": "485b8d27",
   "metadata": {},
   "outputs": [
    {
     "name": "stdout",
     "output_type": "stream",
     "text": [
      "Epoch 1/10\n",
      "1875/1875 [==============================] - 18s 9ms/step - loss: 0.2178 - accuracy: 0.9330\n",
      "Epoch 2/10\n",
      "1875/1875 [==============================] - 19s 10ms/step - loss: 0.0735 - accuracy: 0.9781\n",
      "Epoch 3/10\n",
      "1875/1875 [==============================] - 20s 11ms/step - loss: 0.0526 - accuracy: 0.9837\n",
      "Epoch 4/10\n",
      "1875/1875 [==============================] - 20s 11ms/step - loss: 0.0414 - accuracy: 0.9874\n",
      "Epoch 5/10\n",
      "1875/1875 [==============================] - 20s 10ms/step - loss: 0.0350 - accuracy: 0.9897\n",
      "Epoch 6/10\n",
      "1875/1875 [==============================] - 20s 11ms/step - loss: 0.0304 - accuracy: 0.9906\n",
      "Epoch 7/10\n",
      "1875/1875 [==============================] - 20s 11ms/step - loss: 0.0253 - accuracy: 0.9926\n",
      "Epoch 8/10\n",
      "1875/1875 [==============================] - 19s 10ms/step - loss: 0.0225 - accuracy: 0.9938\n",
      "Epoch 9/10\n",
      "1875/1875 [==============================] - 20s 10ms/step - loss: 0.0197 - accuracy: 0.9947\n",
      "Epoch 10/10\n",
      "1875/1875 [==============================] - 20s 11ms/step - loss: 0.0179 - accuracy: 0.9947\n"
     ]
    },
    {
     "data": {
      "text/plain": [
       "<keras.callbacks.History at 0x219a60e23a0>"
      ]
     },
     "execution_count": 5,
     "metadata": {},
     "output_type": "execute_result"
    }
   ],
   "source": [
    "#MODELIN DERLENMESI VE EGITILMESI\n",
    "cnnModel.compile(optimizer = 'rmsprop', loss= 'sparse_categorical_crossentropy',metrics=['accuracy'])\n",
    "cnnModel.fit(X_train,y_train,epochs=10)"
   ]
  },
  {
   "cell_type": "code",
   "execution_count": 6,
   "id": "2e8c92c1",
   "metadata": {},
   "outputs": [
    {
     "name": "stdout",
     "output_type": "stream",
     "text": [
      "Model train data sonuçları Sonuçları\n",
      "1875/1875 [==============================] - 6s 3ms/step - loss: 0.0112 - accuracy: 0.9968\n",
      "Model test data sonuçları Sonuçları\n",
      "313/313 [==============================] - 1s 4ms/step - loss: 0.0616 - accuracy: 0.9877\n"
     ]
    },
    {
     "data": {
      "text/plain": [
       "[0.06160755455493927, 0.9876999855041504]"
      ]
     },
     "execution_count": 6,
     "metadata": {},
     "output_type": "execute_result"
    }
   ],
   "source": [
    "#MODEL TEST VE TRAİN SONUÇLARI\n",
    "print(\"Model train data sonuçları Sonuçları\")\n",
    "cnnModel.evaluate(X_train, y_train)\n",
    "print(\"Model test data sonuçları Sonuçları\")\n",
    "cnnModel.evaluate(X_test, y_test)"
   ]
  },
  {
   "cell_type": "markdown",
   "id": "fc408806",
   "metadata": {},
   "source": [
    "# Model test verilerinin tahminlerini alma"
   ]
  },
  {
   "cell_type": "code",
   "execution_count": 7,
   "id": "ba559d54",
   "metadata": {},
   "outputs": [
    {
     "name": "stdout",
     "output_type": "stream",
     "text": [
      "[1.01614064e-11 1.33070770e-07 1.19105856e-07 1.22598365e-09\n",
      " 7.65953132e-08 2.95166183e-11 1.63392073e-13 9.99999404e-01\n",
      " 1.83807014e-08 2.73305574e-07]\n",
      "TAHMİN SONUCU:7\n"
     ]
    },
    {
     "data": {
      "image/png": "[encoded data removed]",
      "text/plain": [
       "<PIL.Image.Image image mode=L size=28x28 at 0x219A84D6880>"
      ]
     },
     "execution_count": 7,
     "metadata": {},
     "output_type": "execute_result"
    }
   ],
   "source": [
    "testTahminleri = cnnModel.predict(X_test)\n",
    "print(testTahminleri[0])\n",
    "print(F\"TAHMİN SONUCU:{np.argmax(testTahminleri[0])}\")\n",
    "array_to_img(X_test[0])"
   ]
  },
  {
   "cell_type": "code",
   "execution_count": 8,
   "id": "85d16613",
   "metadata": {},
   "outputs": [],
   "source": [
    "#TEST TAHMİNLERİNİ INTE ÇEVİRME\n",
    "testTahminleriInt=[]\n",
    "for i in range(10000):\n",
    "    testTahminleriInt.append(np.argmax(testTahminleri[i]))\n",
    "testTahminleriInt=np.array(testTahminleriInt)\n",
    "testTahminleriInt=testTahminleriInt.astype('uint8')"
   ]
  },
  {
   "cell_type": "code",
   "execution_count": 10,
   "id": "71d66175",
   "metadata": {},
   "outputs": [
    {
     "name": "stdout",
     "output_type": "stream",
     "text": [
      "[[ 968    0    1    0    0    2    2    1    0    4]\n",
      " [   1 1134    0    1    2    0    2    5    1    2]\n",
      " [   2    0 1018    2    0    0    0    5    2    0]\n",
      " [   0    0    0  993    0    3    0    1    2    0]\n",
      " [   0    0    1    0  970    0    3    0    1    7]\n",
      " [   2    0    1   11    0  884    2    2    0    6]\n",
      " [   2    0    0    0    3    2  947    0    0    0]\n",
      " [   1    1    9    2    1    1    0 1012    0    2]\n",
      " [   3    0    2    0    3    0    2    2  967    4]\n",
      " [   1    0    0    1    3    0    0    0    1  984]]\n"
     ]
    }
   ],
   "source": [
    "cm = confusion_matrix(testTahminleriInt,y_test)\n",
    "print(cm)"
   ]
  },
  {
   "cell_type": "code",
   "execution_count": 11,
   "id": "7c077660",
   "metadata": {},
   "outputs": [],
   "source": [
    "#MODELIN KAYIT EDILMESI\n",
    "from tensorflow.keras.models import load_model\n",
    "cnnModel.save(\"C:\\\\Users\\\\semih\\\\Desktop\\\\python\\\\Jupyter Notebook\\\\Bitirme Projesi\\\\model\\\\rakamTanimaModeli.h5\")"
   ]
  },
  {
   "cell_type": "code",
   "execution_count": null,
   "id": "76c083ed",
   "metadata": {},
   "outputs": [],
   "source": []
  },
  {
   "cell_type": "code",
   "execution_count": null,
   "id": "60b41d6e",
   "metadata": {},
   "outputs": [],
   "source": []
  }
 ],
 "metadata": {
  "kernelspec": {
   "display_name": "Python 3 (ipykernel)",
   "language": "python",
   "name": "python3"
  },
  "language_info": {
   "codemirror_mode": {
    "name": "ipython",
    "version": 3
   },
   "file_extension": ".py",
   "mimetype": "text/x-python",
   "name": "python",
   "nbconvert_exporter": "python",
   "pygments_lexer": "ipython3",
   "version": "3.9.9"
  }
 },
 "nbformat": 4,
 "nbformat_minor": 5
}
