{
 "cells": [
  {
   "cell_type": "code",
   "execution_count": 82,
   "id": "ec8fecc9",
   "metadata": {},
   "outputs": [],
   "source": [
    "import cv2\n",
    "import numpy as np\n",
    "import tensorflow as tf\n",
    "from tensorflow.keras.models import load_model\n",
    "from keras.preprocessing.image import load_img\n",
    "from keras.preprocessing.image import img_to_array\n",
    "from keras.preprocessing.image import array_to_img\n",
    "\n",
    "\n",
    "model = tf.keras.models.load_model(\"C:\\\\Users\\\\semih\\\\Desktop\\\\python\\\\Jupyter Notebook\\\\Bitirme Projesi\\\\model\\\\rakamTanimaModeli.h5\")"
   ]
  },
  {
   "cell_type": "code",
   "execution_count": 143,
   "id": "6ea38c9f",
   "metadata": {},
   "outputs": [],
   "source": [
    "exec(open(\"./drawing.py\").read()) #çizim dosyasını çağırma\n",
    "# image yükleme\n",
    "Path=\"C:\\\\Users\\\\semih\\\\Desktop\\\\python\\\\Jupyter Notebook\\\\Bitirme Projesi\\\\img\\\\painted_image.png\"\n",
    "img = load_img(Path,color_mode='grayscale',target_size=(28,28))\n",
    "img_array = img_to_array(img) # image to np.array\n",
    "img_array=img_array.reshape(-1,28,28,1)"
   ]
  },
  {
   "cell_type": "code",
   "execution_count": 144,
   "id": "84a367a1",
   "metadata": {},
   "outputs": [
    {
     "name": "stdout",
     "output_type": "stream",
     "text": [
      "0\n"
     ]
    },
    {
     "data": {
      "image/png": "[encoded data removed]",
      "text/plain": [
       "<PIL.Image.Image image mode=L size=28x28 at 0x2CE6B7260D0>"
      ]
     },
     "execution_count": 144,
     "metadata": {},
     "output_type": "execute_result"
    }
   ],
   "source": [
    "\n",
    "print(np.argmax(model.predict(img_array)))\n",
    "img"
   ]
  },
  {
   "cell_type": "code",
   "execution_count": null,
   "id": "eee07778",
   "metadata": {},
   "outputs": [],
   "source": []
  },
  {
   "cell_type": "code",
   "execution_count": null,
   "id": "d256f1b3",
   "metadata": {},
   "outputs": [],
   "source": []
  },
  {
   "cell_type": "code",
   "execution_count": null,
   "id": "3b81401e",
   "metadata": {},
   "outputs": [],
   "source": []
  }
 ],
 "metadata": {
  "kernelspec": {
   "display_name": "Python 3 (ipykernel)",
   "language": "python",
   "name": "python3"
  },
  "language_info": {
   "codemirror_mode": {
    "name": "ipython",
    "version": 3
   },
   "file_extension": ".py",
   "mimetype": "text/x-python",
   "name": "python",
   "nbconvert_exporter": "python",
   "pygments_lexer": "ipython3",
   "version": "3.9.9"
  }
 },
 "nbformat": 4,
 "nbformat_minor": 5
}
